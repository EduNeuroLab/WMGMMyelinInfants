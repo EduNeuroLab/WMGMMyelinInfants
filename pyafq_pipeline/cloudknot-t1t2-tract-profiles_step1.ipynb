{
 "cells": [
  {
   "cell_type": "code",
   "execution_count": null,
   "metadata": {},
   "outputs": [],
   "source": [
    "import cloudknot as ck"
   ]
  },
  {
   "cell_type": "code",
   "execution_count": null,
   "metadata": {},
   "outputs": [],
   "source": [
    "ck.set_region('us-west-2')"
   ]
  },
  {
   "cell_type": "code",
   "execution_count": null,
   "metadata": {},
   "outputs": [],
   "source": [
    "def R1_tract_profiles(params):\n",
    "    sub, bundles = params\n",
    "    import s3fs\n",
    "    import dipy.stats.analysis as dsa\n",
    "    import dipy.io.streamline as dis\n",
    "    import AFQ\n",
    "    import AFQ.data as afd\n",
    "    import numpy as np\n",
    "    import pandas as pd\n",
    "    from AFQ.data import s3bids as s3b\n",
    "\n",
    "    fs = s3fs.S3FileSystem()\n",
    "\n",
    "    sub_folder = f\"dhcp-afq/afq_rel2/output/sub-{sub}/\"\n",
    "    sub_folder_ls = fs.ls(sub_folder)\n",
    "    for ses_folder in sub_folder_ls:\n",
    "        ses = ses_folder.split('/')[-1]\n",
    "        key_myelin = f\"dhcp-afq/dhcp_anat_pipeline/sub-{sub}/{ses}/anat/sub-{sub}_{ses}_space-T2w_myelinmap.nii.gz\"\n",
    "        myelin_img = s3b.s3fs_nifti_read(key_myelin)\n",
    "        myelin = myelin_img.get_fdata()\n",
    "        fs = s3fs.S3FileSystem()\n",
    "        tract_profiles = {}\n",
    "\n",
    "        for bundle in bundles:\n",
    "            trk = fs.get(f'dhcp-afq/afq_rel2/output/sub-{sub}/{ses}/bundles/sub-{sub}_{ses}_coordsys-RASMM_trkmethod-probCSD_recogmethod-AFQ_desc-{bundle}_tractography.trk', \n",
    "                         'bundle.trk')\n",
    "            sft = dis.load_trk(\"bundle.trk\", \"same\")\n",
    "\n",
    "            tract_profiles[bundle] = dsa.afq_profile(myelin, sft.streamlines, myelin_img.affine, weights=dsa.gaussian_weights(sft.streamlines))\n",
    "        df = pd.DataFrame(tract_profiles)\n",
    "        df_m = df.melt(ignore_index=False)\n",
    "        df_m[\"nodeID\"] = df_m.index\n",
    "        df_m = df_m.rename(columns={\"variable\": \"tractID\", \"value\": \"t1wt2w\"})\n",
    "        df_m.to_csv(\"local.csv\", index=False)\n",
    "        fs.put(\"local.csv\", f\"dhcp-afq/afq_rel2/output/sub-{sub}/{ses}/sub-{sub}_{ses}_t1wt2w_tract_profiles.csv\")"
   ]
  },
  {
   "cell_type": "code",
   "execution_count": null,
   "metadata": {},
   "outputs": [],
   "source": [
    "import pandas as pd"
   ]
  },
  {
   "cell_type": "code",
   "execution_count": null,
   "metadata": {},
   "outputs": [],
   "source": [
    "participants = pd.read_csv('s3://dhcp-afq/dhcp_dmri_pipeline/participants.tsv', sep='\\t')"
   ]
  },
  {
   "cell_type": "code",
   "execution_count": null,
   "metadata": {},
   "outputs": [],
   "source": [
    "subjects = participants['participant_id']"
   ]
  },
  {
   "cell_type": "code",
   "execution_count": null,
   "metadata": {},
   "outputs": [],
   "source": [
    "bundles = ['ARCR', 'ARCL', 'ATRR', 'ATRL', 'CGCR', 'CGCL', 'CSTR',\n",
    "           'CSTL', 'FA', 'FP', 'IFOR', 'IFOL', 'ILFR', 'ILFL', 'MdLFR',\n",
    "           'MdLFL', 'ORL', \"ORR\", \"pARCL\", \"pARCR\", 'SLFR', 'SLFL','UNCR', 'UNCL', \"VOFL\", \"VOFR\"]"
   ]
  },
  {
   "cell_type": "code",
   "execution_count": null,
   "metadata": {},
   "outputs": [],
   "source": [
    "inputs = [(sub, bundles) for sub in subjects]"
   ]
  },
  {
   "cell_type": "code",
   "execution_count": null,
   "metadata": {},
   "outputs": [],
   "source": [
    "!open local.csv"
   ]
  },
  {
   "cell_type": "code",
   "execution_count": null,
   "metadata": {},
   "outputs": [],
   "source": [
    "di = ck.DockerImage(\n",
    "    name=\"dhcp-r1-profiles-new\",\n",
    "    func=R1_tract_profiles,\n",
    "    base_image = 'pennbbl/qsiprep:0.19.0',\n",
    "    github_installs=(\"https://github.com/yeatmanlab/pyAFQ.git@master\"),\n",
    "    overwrite=True,\n",
    ")"
   ]
  },
  {
   "cell_type": "code",
   "execution_count": null,
   "metadata": {},
   "outputs": [],
   "source": [
    "knot = ck.Knot(\n",
    "    name=\"dhcp-t1wt2w-profiles-rel2\",\n",
    "    docker_image=di,\n",
    "    pars_policies=(\"AmazonS3FullAccess\",),\n",
    "    bid_percentage=100,\n",
    "    aws_resource_tags={\"Project\": \"DHCP\"},\n",
    ")"
   ]
  },
  {
   "cell_type": "code",
   "execution_count": null,
   "metadata": {},
   "outputs": [],
   "source": [
    "len(inputs)"
   ]
  },
  {
   "cell_type": "code",
   "execution_count": null,
   "metadata": {},
   "outputs": [],
   "source": [
    "results = knot.map(inputs)"
   ]
  },
  {
   "cell_type": "code",
   "execution_count": null,
   "metadata": {},
   "outputs": [],
   "source": [
    "j0 = knot.jobs[0]"
   ]
  },
  {
   "cell_type": "code",
   "execution_count": null,
   "metadata": {},
   "outputs": [],
   "source": [
    "j0.status"
   ]
  }
 ],
 "metadata": {
  "kernelspec": {
   "display_name": "Python 3 (ipykernel)",
   "language": "python",
   "name": "python3"
  },
  "language_info": {
   "codemirror_mode": {
    "name": "ipython",
    "version": 3
   },
   "file_extension": ".py",
   "mimetype": "text/x-python",
   "name": "python",
   "nbconvert_exporter": "python",
   "pygments_lexer": "ipython3",
   "version": "3.8.10"
  }
 },
 "nbformat": 4,
 "nbformat_minor": 4
}
